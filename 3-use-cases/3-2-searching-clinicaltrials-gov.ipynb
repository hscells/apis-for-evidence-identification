{
 "cells": [
  {
   "metadata": {},
   "cell_type": "markdown",
   "source": [
    "# 3.2 Searching ClinicalTrials.gov\n",
    "\n",
    "[![Open In Colab](https://colab.research.google.com/assets/colab-badge.svg)](https://colab.research.google.com/github.com/hscells/apis-for-evidence-identification/blob/main/3-use-cases/3-2-searching-clinicaltrials-gov.ipynb) \n",
    "\n",
    "In this notebook we will be searching ClinicalTrials.gov for clinical trials. We'll see an example of searching with the same example as before, using \"[Blue-Light Therapy for Acne Vulgaris: A Systematic Review and Meta-Analysis](https://www.ncbi.nlm.nih.gov/pmc/articles/PMC6846280/)\""
   ],
   "id": "2a617597714d385b"
  },
  {
   "metadata": {
    "ExecuteTime": {
     "end_time": "2024-04-15T13:42:21.844548Z",
     "start_time": "2024-04-15T13:42:20.427426Z"
    }
   },
   "cell_type": "code",
   "source": [
    "!pip install requests pandas -q\n",
    "import requests\n",
    "import pandas as pd"
   ],
   "id": "312f579d6752d0ff",
   "execution_count": 1,
   "outputs": []
  },
  {
   "metadata": {},
   "cell_type": "markdown",
   "source": [
    "## Searching and De-duplicating Results\n",
    "\n",
    "First, we will explore how to search both PubMed and ClinicalTrials.gov, then deduplicate the results. We'll run the PubMed query from before and the ClinicalTrials.gov query, then analyse the results.\n",
    "\n",
    "The first cell below contains the PubMed query and the ClinicalTrials.gov query. These could be swapped out to search for different topics and the rest of the notebook would still work."
   ],
   "id": "34d9f7a51b02e18"
  },
  {
   "metadata": {
    "ExecuteTime": {
     "end_time": "2024-04-15T13:42:21.848124Z",
     "start_time": "2024-04-15T13:42:21.845944Z"
    }
   },
   "cell_type": "code",
   "source": [
    "pubmed_search_string = \"\"\"\n",
    "(\"Acne Vulgaris\"[Mesh] OR Acne[tiab] OR Blackheads[tiab] OR Whiteheads[tiab] OR Pimples[tiab]) AND (\"Phototherapy\"[Mesh] OR \"Blue light\"[tiab] OR Phototherapy[tiab] OR Phototherapies[tiab] OR \"Photoradiation therapy\"[tiab] OR \"Photoradiation Therapies\"[tiab] OR \"Light Therapy\"[tiab] OR \"Light Therapies\"[tiab]) AND (Randomized controlled trial[pt] OR controlled clinical trial[pt] OR randomized[tiab] OR randomised[tiab] OR placebo[tiab] OR \"drug therapy\"[sh] OR randomly[tiab] OR trial[tiab] OR groups[tiab]) NOT (Animals[Mesh] not (Animals[Mesh] and Humans[Mesh]))\n",
    "\"\"\"\n",
    "clinicaltrials_search_string = \"(Acne AND (Phototherapy OR light))\""
   ],
   "id": "fce0378294336d29",
   "outputs": [],
   "execution_count": 2
  },
  {
   "metadata": {},
   "cell_type": "markdown",
   "source": [
    "We'll start by searching PubMed and ClinicalTrials.gov for the queries above. We'll then deduplicate the results by comparing the PMIDs from PubMed with the NCT IDs from ClinicalTrials.gov.\n",
    "\n",
    "We'll start by searching PubMed for the query above."
   ],
   "id": "7eab5cf384f9da65"
  },
  {
   "metadata": {
    "ExecuteTime": {
     "end_time": "2024-04-15T13:42:23.276423Z",
     "start_time": "2024-04-15T13:42:21.849429Z"
    }
   },
   "cell_type": "code",
   "source": [
    "def get_pmids_from_pubmed(query, retstart=0):\n",
    "    # The query doesn't return more than 10,000 results, so we can retrieve all the PMIDs at once.\n",
    "    pubmed_response = requests.get(  # GET request\n",
    "        url=\"https://eutils.ncbi.nlm.nih.gov/entrez/eutils/esearch.fcgi\",  # URL of the API\n",
    "        params={  # Parameters of the request\n",
    "            \"db\": \"pubmed\",\n",
    "            \"term\": pubmed_search_string,\n",
    "            \"retmax\": 10_000,  # We can retrieve up to 10,000 studies at a time\n",
    "            \"retstart\": retstart,  # Start at the first study\n",
    "            \"format\": \"json\"\n",
    "        }\n",
    "    ).json()  # Parse the response as JSON\n",
    "\n",
    "    n_studies = int(pubmed_response[\"esearchresult\"][\"count\"])\n",
    "\n",
    "    # Get the list of PMIDs from the response\n",
    "    for pmid in pubmed_response[\"esearchresult\"][\"idlist\"]:\n",
    "        yield pmid\n",
    "\n",
    "    # If we haven't reached the total number of studies, get the next page\n",
    "    if n_studies > retstart:\n",
    "        yield from get_pmids_from_pubmed(query, retstart=retstart + 10_000)\n",
    "\n",
    "\n",
    "pubmed_pmids = list(get_pmids_from_pubmed(pubmed_search_string))\n",
    "len(pubmed_pmids)"
   ],
   "id": "a7735832dc6343bd",
   "outputs": [
    {
     "data": {
      "text/plain": [
       "496"
      ]
     },
     "execution_count": 3,
     "metadata": {},
     "output_type": "execute_result"
    }
   ],
   "execution_count": 3
  },
  {
   "metadata": {},
   "cell_type": "markdown",
   "source": "The above cell should print how many PMIDs were found in PubMed. We'll now search ClinicalTrials.gov for the query above.",
   "id": "320bc03ba39e3314"
  },
  {
   "metadata": {
    "ExecuteTime": {
     "end_time": "2024-04-15T13:42:24.916012Z",
     "start_time": "2024-04-15T13:42:23.278938Z"
    }
   },
   "cell_type": "code",
   "source": [
    "# The query retrieves more than 100 results, so we need to page through the results\n",
    "def get_ntcids_from_clinicaltrials(query, next_page=None, page_size=20):\n",
    "    params = {  # Parameters of the request\n",
    "        \"filter.advanced\": query,\n",
    "        \"pageSize\": page_size,\n",
    "        \"format\": \"json\"\n",
    "    }\n",
    "    if next_page is not None:\n",
    "        params[\"pageToken\"] = next_page\n",
    "    clinicaltrials_response = requests.get(  # GET request\n",
    "        url=\" https://clinicaltrials.gov/api/v2/studies\",  # URL of the API\n",
    "        params=params\n",
    "    ).json()  # Parse the response as JSON\n",
    "\n",
    "    # Yield the NCT IDs\n",
    "    for study in clinicaltrials_response[\"studies\"]:\n",
    "        nct_id = study[\"protocolSection\"][\"identificationModule\"][\"nctId\"]\n",
    "        yield nct_id\n",
    "\n",
    "    # If we haven't reached the total number of studies, get the next page\n",
    "    if \"nextPageToken\" in clinicaltrials_response:\n",
    "        yield from get_ntcids_from_clinicaltrials(\n",
    "            query,\n",
    "            next_page=clinicaltrials_response[\"nextPageToken\"],\n",
    "            page_size=page_size,\n",
    "        )\n",
    "\n",
    "\n",
    "clinicaltrials_nctids = list(get_ntcids_from_clinicaltrials(clinicaltrials_search_string))\n",
    "len(clinicaltrials_nctids)"
   ],
   "id": "1d498c172f2533a9",
   "outputs": [
    {
     "data": {
      "text/plain": [
       "106"
      ]
     },
     "execution_count": 4,
     "metadata": {},
     "output_type": "execute_result"
    }
   ],
   "execution_count": 4
  },
  {
   "metadata": {},
   "cell_type": "markdown",
   "source": [
    "The above cell should print how many NCT IDs were found in ClinicalTrials.gov. We can now compare the results from PubMed and ClinicalTrials.gov to deduplicate the results.\n",
    "\n",
    "PubMed provides the ability to seach for articles by a \"secondary ID\", which can bea search using the [SI] field. We can use this to search for the NCT IDs we found in ClinicalTrials.gov. We can then compare the results from PubMed and ClinicalTrials.gov. It's pretty easy for us to automatically create this query:"
   ],
   "id": "92aac4b474fd96a0"
  },
  {
   "metadata": {
    "ExecuteTime": {
     "end_time": "2024-04-15T13:42:24.919122Z",
     "start_time": "2024-04-15T13:42:24.916605Z"
    }
   },
   "cell_type": "code",
   "source": [
    "pubmed_ntcid_search_string = \" OR \".join([f\"{nct_id}[SI]\" for nct_id in clinicaltrials_nctids])\n",
    "pubmed_ntcid_search_string"
   ],
   "id": "45c28c53e321fca",
   "outputs": [
    {
     "data": {
      "text/plain": [
       "'NCT03650881[SI] OR NCT03883269[SI] OR NCT05186246[SI] OR NCT04057768[SI] OR NCT01328080[SI] OR NCT01257555[SI] OR NCT02431494[SI] OR NCT04724473[SI] OR NCT06063473[SI] OR NCT04740268[SI] OR NCT04433143[SI] OR NCT00613444[SI] OR NCT06000189[SI] OR NCT04873089[SI] OR NCT01160848[SI] OR NCT05927948[SI] OR NCT00113425[SI] OR NCT00594425[SI] OR NCT02372786[SI] OR NCT01017120[SI] OR NCT04167982[SI] OR NCT02126566[SI] OR NCT02642627[SI] OR NCT02474082[SI] OR NCT02180282[SI] OR NCT01115322[SI] OR NCT03203122[SI] OR NCT01678482[SI] OR NCT04709289[SI] OR NCT00814918[SI] OR NCT04018885[SI] OR NCT01677221[SI] OR NCT05688202[SI] OR NCT06043102[SI] OR NCT05080764[SI] OR NCT00392223[SI] OR NCT04308421[SI] OR NCT01713179[SI] OR NCT01347879[SI] OR NCT03128723[SI] OR NCT00446043[SI] OR NCT04650750[SI] OR NCT04300010[SI] OR NCT03124381[SI] OR NCT04740255[SI] OR NCT02575950[SI] OR NCT02411955[SI] OR NCT01017146[SI] OR NCT01245946[SI] OR NCT05891795[SI] OR NCT01830764[SI] OR NCT04742803[SI] OR NCT00933543[SI] OR NCT02313467[SI] OR NCT03279003[SI] OR NCT04631250[SI] OR NCT04028401[SI] OR NCT06145867[SI] OR NCT00767104[SI] OR NCT06311890[SI] OR NCT02704507[SI] OR NCT03303170[SI] OR NCT02557399[SI] OR NCT00476697[SI] OR NCT03578497[SI] OR NCT04156815[SI] OR NCT01929278[SI] OR NCT05386732[SI] OR NCT01400932[SI] OR NCT03681470[SI] OR NCT01276535[SI] OR NCT05691049[SI] OR NCT02924428[SI] OR NCT03961607[SI] OR NCT05579171[SI] OR NCT05073211[SI] OR NCT00129428[SI] OR NCT04797793[SI] OR NCT05299554[SI] OR NCT05311033[SI] OR NCT02646917[SI] OR NCT04698239[SI] OR NCT04471896[SI] OR NCT05441917[SI] OR NCT00776919[SI] OR NCT01689935[SI] OR NCT01915758[SI] OR NCT03170596[SI] OR NCT01472900[SI] OR NCT05094700[SI] OR NCT04636242[SI] OR NCT02698436[SI] OR NCT00580736[SI] OR NCT04883736[SI] OR NCT06225570[SI] OR NCT05879406[SI] OR NCT04112407[SI] OR NCT02075671[SI] OR NCT00237978[SI] OR NCT00833183[SI] OR NCT05245045[SI] OR NCT05499247[SI] OR NCT05622253[SI] OR NCT00673933[SI] OR NCT00706433[SI] OR NCT01119651[SI]'"
      ]
     },
     "execution_count": 5,
     "metadata": {},
     "output_type": "execute_result"
    }
   ],
   "execution_count": 5
  },
  {
   "metadata": {},
   "cell_type": "markdown",
   "source": "We can now search PubMed for the NCT IDs we found in ClinicalTrials.gov. We'll then deduplicate the results by comparing the PMIDs from PubMed with the NCT IDs from ClinicalTrials.gov.",
   "id": "a7dc0306f0ac4761"
  },
  {
   "metadata": {
    "ExecuteTime": {
     "end_time": "2024-04-15T13:42:25.694520Z",
     "start_time": "2024-04-15T13:42:24.919796Z"
    }
   },
   "cell_type": "code",
   "source": [
    "# The query doesn't return more than 10,000 results, so we can retrieve all the PMIDs at once.\n",
    "pubmed_ntcid_response = requests.get(  # GET request\n",
    "    url=\"https://eutils.ncbi.nlm.nih.gov/entrez/eutils/esearch.fcgi\",  # URL of the API\n",
    "    params={  # Parameters of the request\n",
    "        \"db\": \"pubmed\",\n",
    "        \"term\": pubmed_ntcid_search_string,\n",
    "        \"retmax\": 10_000,  # We can retrieve up to 10,000 studies at a time\n",
    "        \"format\": \"json\"\n",
    "    }\n",
    ").json()  # Parse the response as JSON\n",
    "\n",
    "# Get the list of PMIDs from the response\n",
    "pubmed_ntcid_pmids = pubmed_ntcid_response[\"esearchresult\"][\"idlist\"]\n",
    "len(pubmed_ntcid_pmids)"
   ],
   "id": "9fc3a73c17c7eb5b",
   "outputs": [
    {
     "data": {
      "text/plain": [
       "5"
      ]
     },
     "execution_count": 6,
     "metadata": {},
     "output_type": "execute_result"
    }
   ],
   "execution_count": 6
  },
  {
   "metadata": {},
   "cell_type": "markdown",
   "source": "The above cell should print how many PMIDs were found in PubMed for the NCT IDs we found in ClinicalTrials.gov. The following cell displays which the actual PMIDs we found.",
   "id": "d7baa33ef64acb83"
  },
  {
   "metadata": {
    "ExecuteTime": {
     "end_time": "2024-04-15T13:42:25.699875Z",
     "start_time": "2024-04-15T13:42:25.696014Z"
    }
   },
   "cell_type": "code",
   "source": "pubmed_ntcid_pmids",
   "id": "5e17f0db3344ec4b",
   "outputs": [
    {
     "data": {
      "text/plain": [
       "['36946749', '30829754', '30452511', '29905384', '23538621']"
      ]
     },
     "execution_count": 7,
     "metadata": {},
     "output_type": "execute_result"
    }
   ],
   "execution_count": 7
  },
  {
   "metadata": {},
   "cell_type": "markdown",
   "source": "Now that we have the list of PMIDs from PubMed and the PMIDs for the NCT IDs from ClinicalTrials.gov, we can deduplicate the results by taking the union of the two sets.",
   "id": "dd71672ec2239c06"
  },
  {
   "metadata": {
    "ExecuteTime": {
     "end_time": "2024-04-15T13:42:25.704525Z",
     "start_time": "2024-04-15T13:42:25.701094Z"
    }
   },
   "cell_type": "code",
   "source": [
    "deduplicated_pmids = list(set(pubmed_pmids).union(set(pubmed_ntcid_pmids)))\n",
    "len(deduplicated_pmids)"
   ],
   "id": "903f3ad62c85c7e8",
   "outputs": [
    {
     "data": {
      "text/plain": [
       "500"
      ]
     },
     "execution_count": 8,
     "metadata": {},
     "output_type": "execute_result"
    }
   ],
   "execution_count": 8
  },
  {
   "metadata": {},
   "cell_type": "markdown",
   "source": "The cell aboveshould print how many PMIDs were found in total after deduplication. We now have everything we need to retrieve the study data for screening: The list of PMIDs from PubMed and the NCT IDs from ClinicalTrials.gov, without any overlapping studies from either service.",
   "id": "a6ddd78c7c38ca43"
  },
  {
   "metadata": {},
   "cell_type": "markdown",
   "source": [
    "## Retrieving Study Data for Screening \n",
    "\n",
    "We'd like to minimise the time we spend processing all the data into a common format to screen it, so we'll normalise the data from both PubMed and ClinicalTrials.gov so we can either immediately screen it, or import it into a screening tool. Now that we have all the IDs for the studies we want to screen, we can retrieve the study data for screening. We'll start by retrieving the study data from PubMed.\n",
    "\n",
    "The first cell here sets up what our data format will look like. In this basic example, studies will contain the title, abstract and either the PMID or NCT ID."
   ],
   "id": "641959326e261014"
  },
  {
   "metadata": {
    "ExecuteTime": {
     "end_time": "2024-04-15T13:42:25.706915Z",
     "start_time": "2024-04-15T13:42:25.705227Z"
    }
   },
   "cell_type": "code",
   "source": [
    "from collections import namedtuple\n",
    "\n",
    "Study = namedtuple(\"Study\", [\"title\", \"abstract\", \"pmid\", \"nct_id\"])"
   ],
   "id": "e62996302a828287",
   "outputs": [],
   "execution_count": 9
  },
  {
   "metadata": {},
   "cell_type": "markdown",
   "source": [
    "We'll now retrieve the study data from PubMed for the PMIDs we found. We'll slice up the PMIDs into chunks of 25, the API is unlcear on how many PMIDs can be retrieved at once, so we'll play it safe and use 25. We'll then parse the response and create a list of studies.\n",
    "\n",
    "We also have to do a little bit more data processing, since we can't directly access the study data from PubMed in JSON. For an example of how the data we get back from the API we use below looks like, take a look at this URL: https://eutils.ncbi.nlm.nih.gov/entrez/eutils/efetch.fcgi?db=pubmed&id=25594129&retmode=text&rettype=medline"
   ],
   "id": "11008061515048e1"
  },
  {
   "metadata": {
    "ExecuteTime": {
     "end_time": "2024-04-15T13:42:45.571355Z",
     "start_time": "2024-04-15T13:42:25.708645Z"
    }
   },
   "cell_type": "code",
   "source": [
    "# Slice up the PMIDs into chunks of 25\n",
    "sliced_pmids = [deduplicated_pmids[i:i + 25] for i in range(0, len(deduplicated_pmids), 25)]\n",
    "\n",
    "response = \"\"\n",
    "for pmid_slice in sliced_pmids:\n",
    "    response += requests.get(  # GET request\n",
    "        url=\"https://eutils.ncbi.nlm.nih.gov/entrez/eutils/efetch.fcgi\",  # URL of the API\n",
    "        params={  # Parameters of the request\n",
    "            \"db\": \"pubmed\",\n",
    "            \"id\": \",\".join(pmid_slice),  # We can get multiple PMIDs at once\n",
    "            \"rettype\": \"medline\",\n",
    "            \"retmode\": \"text\"\n",
    "        }\n",
    "    ).text"
   ],
   "id": "150431e41818373b",
   "outputs": [],
   "execution_count": 10
  },
  {
   "metadata": {},
   "cell_type": "markdown",
   "source": "We basically have a big string of raw data that we need to process manually. The following cell takes the raw data, splits it into sections (where a section corresponds to a study), and normalises it into the data format we specified above. There is much more data in the response than we need, but we'll only be extracting the title and abstract. ",
   "id": "e7527f0377c1ee75"
  },
  {
   "metadata": {
    "ExecuteTime": {
     "end_time": "2024-04-15T13:42:45.609738Z",
     "start_time": "2024-04-15T13:42:45.572566Z"
    }
   },
   "cell_type": "code",
   "source": [
    "pubmed_studies = []  # This will contain all the studies once processed\n",
    "sections = response.split(\"\\n\\n\")  # Thankfully, the responses can be split easily on two empty lines\n",
    "\n",
    "for section in sections:  # Now, we process each section.\n",
    "    # The next few lines of code convert the lines into a JSON format\n",
    "    data_dict = {}\n",
    "    last_key = None\n",
    "    for line in section.splitlines():\n",
    "        if line.strip() == \"\":\n",
    "            continue\n",
    "        if line[4] == \"-\":\n",
    "            line = line.split(\"-\")\n",
    "            last_key = line[0].strip()\n",
    "            if last_key in data_dict:\n",
    "                if not isinstance(data_dict[last_key], list):\n",
    "                    data_dict[last_key] = [data_dict[last_key]]\n",
    "                data_dict[last_key].append(line[1].strip())\n",
    "            else:\n",
    "                data_dict[last_key] = line[1].strip()\n",
    "        else:\n",
    "            data_dict[last_key] += line.strip() + \" \"\n",
    "\n",
    "    # Here is really where we normalise the data into the format we want\n",
    "    pubmed_studies.append(Study(\n",
    "        title=data_dict[\"TI\"],  # Note the \"TI\" field corresponds to the TI line in the raw data\n",
    "        abstract=data_dict[\"AB\"] if \"AB\" in data_dict else None,  # Some studies don't have an abstract!\n",
    "        pmid=data_dict[\"PMID\"],\n",
    "        nct_id=None\n",
    "    ))"
   ],
   "id": "84ac42aa3aae1799",
   "outputs": [],
   "execution_count": 11
  },
  {
   "metadata": {},
   "cell_type": "markdown",
   "source": "We now have the study data from PubMed in the format we want. We can explore the results by displaying them in a table.",
   "id": "42c7499a6bc50fc8"
  },
  {
   "metadata": {
    "ExecuteTime": {
     "end_time": "2024-04-15T13:42:45.622012Z",
     "start_time": "2024-04-15T13:42:45.611456Z"
    }
   },
   "cell_type": "code",
   "source": "pd.DataFrame(pubmed_studies)",
   "id": "2c10b5db16c481e",
   "outputs": [
    {
     "data": {
      "text/plain": [
       "                                                 title  \\\n",
       "0    Topical methyl aminolevulinate photodynamic th...   \n",
       "1                                          Topical ALA   \n",
       "2           Review of Ruxolitinib for Treatment of Non   \n",
       "3    Safe and effective onelaser device in super-pu...   \n",
       "4    Treatment of atrophic acne scars: Topical or i...   \n",
       "..                                                 ...   \n",
       "495  [Our experience in the treatment of acne vulga...   \n",
       "496  A new therapeutic option for facial seborrhoei...   \n",
       "497  Physical modalities for treating acne and rosa...   \n",
       "498  Combined Fractional Treatment of Acne Scars In...   \n",
       "499                            Treating acne vulgaris.   \n",
       "\n",
       "                                              abstract      pmid nct_id  \n",
       "0    Photodynamic therapy (PDT) has been found to b...  17598868   None  \n",
       "1    Topical aminolevulinic acid is converted into ...  10951234   None  \n",
       "2    OBJECTIVE: To review the pharmacokinetics, eff...  36564903   None  \n",
       "3    Carbon dioxide (CO(2)) laser ablative fraction...  20814788   None  \n",
       "4    BACKGROUND: Atrophic postchallenge. OBJECTIVES...  34157162   None  \n",
       "..                                                 ...       ...    ...  \n",
       "495                                               None   4279529   None  \n",
       "496  BACKGROUND: Indolephotodynamic therapy (PDT) f...  23302041   None  \n",
       "497  Physical modalities provide an important adjun...  27416315   None  \n",
       "498  An optimized therapeutic regimen involving a n...  28512669   None  \n",
       "499  While there is no single treatment plan that w...    138356   None  \n",
       "\n",
       "[500 rows x 4 columns]"
      ],
      "text/html": [
       "<div>\n",
       "<style scoped>\n",
       "    .dataframe tbody tr th:only-of-type {\n",
       "        vertical-align: middle;\n",
       "    }\n",
       "\n",
       "    .dataframe tbody tr th {\n",
       "        vertical-align: top;\n",
       "    }\n",
       "\n",
       "    .dataframe thead th {\n",
       "        text-align: right;\n",
       "    }\n",
       "</style>\n",
       "<table border=\"1\" class=\"dataframe\">\n",
       "  <thead>\n",
       "    <tr style=\"text-align: right;\">\n",
       "      <th></th>\n",
       "      <th>title</th>\n",
       "      <th>abstract</th>\n",
       "      <th>pmid</th>\n",
       "      <th>nct_id</th>\n",
       "    </tr>\n",
       "  </thead>\n",
       "  <tbody>\n",
       "    <tr>\n",
       "      <th>0</th>\n",
       "      <td>Topical methyl aminolevulinate photodynamic th...</td>\n",
       "      <td>Photodynamic therapy (PDT) has been found to b...</td>\n",
       "      <td>17598868</td>\n",
       "      <td>None</td>\n",
       "    </tr>\n",
       "    <tr>\n",
       "      <th>1</th>\n",
       "      <td>Topical ALA</td>\n",
       "      <td>Topical aminolevulinic acid is converted into ...</td>\n",
       "      <td>10951234</td>\n",
       "      <td>None</td>\n",
       "    </tr>\n",
       "    <tr>\n",
       "      <th>2</th>\n",
       "      <td>Review of Ruxolitinib for Treatment of Non</td>\n",
       "      <td>OBJECTIVE: To review the pharmacokinetics, eff...</td>\n",
       "      <td>36564903</td>\n",
       "      <td>None</td>\n",
       "    </tr>\n",
       "    <tr>\n",
       "      <th>3</th>\n",
       "      <td>Safe and effective onelaser device in super-pu...</td>\n",
       "      <td>Carbon dioxide (CO(2)) laser ablative fraction...</td>\n",
       "      <td>20814788</td>\n",
       "      <td>None</td>\n",
       "    </tr>\n",
       "    <tr>\n",
       "      <th>4</th>\n",
       "      <td>Treatment of atrophic acne scars: Topical or i...</td>\n",
       "      <td>BACKGROUND: Atrophic postchallenge. OBJECTIVES...</td>\n",
       "      <td>34157162</td>\n",
       "      <td>None</td>\n",
       "    </tr>\n",
       "    <tr>\n",
       "      <th>...</th>\n",
       "      <td>...</td>\n",
       "      <td>...</td>\n",
       "      <td>...</td>\n",
       "      <td>...</td>\n",
       "    </tr>\n",
       "    <tr>\n",
       "      <th>495</th>\n",
       "      <td>[Our experience in the treatment of acne vulga...</td>\n",
       "      <td>None</td>\n",
       "      <td>4279529</td>\n",
       "      <td>None</td>\n",
       "    </tr>\n",
       "    <tr>\n",
       "      <th>496</th>\n",
       "      <td>A new therapeutic option for facial seborrhoei...</td>\n",
       "      <td>BACKGROUND: Indolephotodynamic therapy (PDT) f...</td>\n",
       "      <td>23302041</td>\n",
       "      <td>None</td>\n",
       "    </tr>\n",
       "    <tr>\n",
       "      <th>497</th>\n",
       "      <td>Physical modalities for treating acne and rosa...</td>\n",
       "      <td>Physical modalities provide an important adjun...</td>\n",
       "      <td>27416315</td>\n",
       "      <td>None</td>\n",
       "    </tr>\n",
       "    <tr>\n",
       "      <th>498</th>\n",
       "      <td>Combined Fractional Treatment of Acne Scars In...</td>\n",
       "      <td>An optimized therapeutic regimen involving a n...</td>\n",
       "      <td>28512669</td>\n",
       "      <td>None</td>\n",
       "    </tr>\n",
       "    <tr>\n",
       "      <th>499</th>\n",
       "      <td>Treating acne vulgaris.</td>\n",
       "      <td>While there is no single treatment plan that w...</td>\n",
       "      <td>138356</td>\n",
       "      <td>None</td>\n",
       "    </tr>\n",
       "  </tbody>\n",
       "</table>\n",
       "<p>500 rows × 4 columns</p>\n",
       "</div>"
      ]
     },
     "execution_count": 12,
     "metadata": {},
     "output_type": "execute_result"
    }
   ],
   "execution_count": 12
  },
  {
   "metadata": {},
   "cell_type": "markdown",
   "source": "Luklily for us, PubMed will tell us the list of clinical trials that it couldn't find when we searched them before. That means we can just use this list to search ClinicalTrials.gov for the missing studies.",
   "id": "fe8f713708d7bcd4"
  },
  {
   "metadata": {
    "ExecuteTime": {
     "end_time": "2024-04-15T13:42:45.626365Z",
     "start_time": "2024-04-15T13:42:45.623241Z"
    }
   },
   "cell_type": "code",
   "source": [
    "missing_clinicaltrial_studies = pubmed_ntcid_response[\"esearchresult\"][\"errorlist\"][\"phrasesnotfound\"]\n",
    "len(missing_clinicaltrial_studies)"
   ],
   "id": "85f44e67817a1f7f",
   "outputs": [
    {
     "data": {
      "text/plain": [
       "101"
      ]
     },
     "execution_count": 13,
     "metadata": {},
     "output_type": "execute_result"
    }
   ],
   "execution_count": 13
  },
  {
   "metadata": {},
   "cell_type": "markdown",
   "source": [
    "The number above contains the number of clinical trials minus those that were found in PubMed. We can now search ClinicalTrials.gov for the missing studies.\n",
    "\n",
    "Since there are a lot of studies, we'll page through the results to get all the studies. We'll then parse the response and create a list of studies."
   ],
   "id": "7965fd5f9e52972d"
  },
  {
   "metadata": {
    "ExecuteTime": {
     "end_time": "2024-04-15T13:44:29.143035Z",
     "start_time": "2024-04-15T13:44:28.471557Z"
    }
   },
   "cell_type": "code",
   "source": [
    "# The query retrieves more than 100 results, so we need to page through the results\n",
    "def get_studies_from_clinicaltrials(query, page_size=100, next_page=None):\n",
    "    params = {  # Parameters of the request\n",
    "        \"filter.advanced\": query,\n",
    "        \"pageSize\": page_size,\n",
    "        \"format\": \"json\"\n",
    "    }\n",
    "    \n",
    "    if next_page is not None:\n",
    "        params[\"pageToken\"] = next_page\n",
    "        \n",
    "    clinicaltrials_response = requests.get(  # GET request\n",
    "        url=\" https://clinicaltrials.gov/api/v2/studies\",  # URL of the API\n",
    "        params=params\n",
    "    ).json()  # Parse the response as JSON\n",
    "\n",
    "    # Yield the NCT IDs\n",
    "    for study in clinicaltrials_response[\"studies\"]:\n",
    "        if study[\"protocolSection\"][\"identificationModule\"][\"nctId\"] in missing_clinicaltrial_studies:\n",
    "            yield Study(\n",
    "                title=study[\"protocolSection\"][\"identificationModule\"][\"briefTitle\"],\n",
    "                abstract=study[\"protocolSection\"][\"descriptionModule\"][\"briefSummary\"],\n",
    "                pmid=None,\n",
    "                nct_id=study[\"protocolSection\"][\"identificationModule\"][\"nctId\"]\n",
    "            )\n",
    "\n",
    "    # If we haven't reached the total number of studies, get the next page\n",
    "    if \"nextPageToken\" in clinicaltrials_response:\n",
    "        yield from get_studies_from_clinicaltrials(\n",
    "            query,\n",
    "            next_page=clinicaltrials_response[\"nextPageToken\"],\n",
    "            page_size=page_size,\n",
    "        )\n",
    "\n",
    "clinicaltrials_studies = list(get_studies_from_clinicaltrials(clinicaltrials_search_string))"
   ],
   "id": "8b68bbcfc949bfaf",
   "outputs": [],
   "execution_count": 15
  },
  {
   "metadata": {},
   "cell_type": "markdown",
   "source": "We now have the study data from ClinicalTrials.gov in the format we want. We can explore the results by displaying them in a table.",
   "id": "839cf719a7160bcb"
  },
  {
   "metadata": {
    "ExecuteTime": {
     "end_time": "2024-04-15T13:44:30.646592Z",
     "start_time": "2024-04-15T13:44:30.639905Z"
    }
   },
   "cell_type": "code",
   "source": "pd.DataFrame(clinicaltrials_studies)",
   "id": "6cd22dffc36d3044",
   "outputs": [
    {
     "data": {
      "text/plain": [
       "                                                 title  \\\n",
       "0    The Comparative Efficacy of an Over the Counte...   \n",
       "1    Anti-inflammatory Effects of Topical Erythromy...   \n",
       "2    Effectivity and Safety of Combination of Spent...   \n",
       "3    Fractional Radiofrequency for the Treatment an...   \n",
       "4    Treatment of Acne Keloidalis Nuchae (Razor Bum...   \n",
       "..                                                 ...   \n",
       "96   A Proof-of-Concept, Safety and Efficacy Study ...   \n",
       "97   Combined Low-Dose Isotretenion and Long-Pulsed...   \n",
       "98   Photodynamic Therapy (PDT) With Methyl Aminole...   \n",
       "99   Light Dose Ranging Study of Photodynamic Thera...   \n",
       "100  A Study to Evaluate the Potential of Tazaroten...   \n",
       "\n",
       "                                              abstract  pmid       nct_id  \n",
       "0    This is a single-center prospective study of t...  None  NCT03650881  \n",
       "1    The combined bacteriostatic and immunomodulato...  None  NCT03883269  \n",
       "2    The clinical study will compare the efficacy a...  None  NCT05186246  \n",
       "3    The objective of this clinical study is to eva...  None  NCT04057768  \n",
       "4    This study is being done to evaluate the effec...  None  NCT01328080  \n",
       "..                                                 ...   ...          ...  \n",
       "96   This is an open-label, single-arm, single-cent...  None  NCT05499247  \n",
       "97   Acne erythema consists of telangiectasia and e...  None  NCT05622253  \n",
       "98   In this multicenter study, patients with dark ...  None  NCT00673933  \n",
       "99   The purpose of this study is to determine and ...  None  NCT00706433  \n",
       "100  The purpose of this study is to evaluate the p...  None  NCT01119651  \n",
       "\n",
       "[101 rows x 4 columns]"
      ],
      "text/html": [
       "<div>\n",
       "<style scoped>\n",
       "    .dataframe tbody tr th:only-of-type {\n",
       "        vertical-align: middle;\n",
       "    }\n",
       "\n",
       "    .dataframe tbody tr th {\n",
       "        vertical-align: top;\n",
       "    }\n",
       "\n",
       "    .dataframe thead th {\n",
       "        text-align: right;\n",
       "    }\n",
       "</style>\n",
       "<table border=\"1\" class=\"dataframe\">\n",
       "  <thead>\n",
       "    <tr style=\"text-align: right;\">\n",
       "      <th></th>\n",
       "      <th>title</th>\n",
       "      <th>abstract</th>\n",
       "      <th>pmid</th>\n",
       "      <th>nct_id</th>\n",
       "    </tr>\n",
       "  </thead>\n",
       "  <tbody>\n",
       "    <tr>\n",
       "      <th>0</th>\n",
       "      <td>The Comparative Efficacy of an Over the Counte...</td>\n",
       "      <td>This is a single-center prospective study of t...</td>\n",
       "      <td>None</td>\n",
       "      <td>NCT03650881</td>\n",
       "    </tr>\n",
       "    <tr>\n",
       "      <th>1</th>\n",
       "      <td>Anti-inflammatory Effects of Topical Erythromy...</td>\n",
       "      <td>The combined bacteriostatic and immunomodulato...</td>\n",
       "      <td>None</td>\n",
       "      <td>NCT03883269</td>\n",
       "    </tr>\n",
       "    <tr>\n",
       "      <th>2</th>\n",
       "      <td>Effectivity and Safety of Combination of Spent...</td>\n",
       "      <td>The clinical study will compare the efficacy a...</td>\n",
       "      <td>None</td>\n",
       "      <td>NCT05186246</td>\n",
       "    </tr>\n",
       "    <tr>\n",
       "      <th>3</th>\n",
       "      <td>Fractional Radiofrequency for the Treatment an...</td>\n",
       "      <td>The objective of this clinical study is to eva...</td>\n",
       "      <td>None</td>\n",
       "      <td>NCT04057768</td>\n",
       "    </tr>\n",
       "    <tr>\n",
       "      <th>4</th>\n",
       "      <td>Treatment of Acne Keloidalis Nuchae (Razor Bum...</td>\n",
       "      <td>This study is being done to evaluate the effec...</td>\n",
       "      <td>None</td>\n",
       "      <td>NCT01328080</td>\n",
       "    </tr>\n",
       "    <tr>\n",
       "      <th>...</th>\n",
       "      <td>...</td>\n",
       "      <td>...</td>\n",
       "      <td>...</td>\n",
       "      <td>...</td>\n",
       "    </tr>\n",
       "    <tr>\n",
       "      <th>96</th>\n",
       "      <td>A Proof-of-Concept, Safety and Efficacy Study ...</td>\n",
       "      <td>This is an open-label, single-arm, single-cent...</td>\n",
       "      <td>None</td>\n",
       "      <td>NCT05499247</td>\n",
       "    </tr>\n",
       "    <tr>\n",
       "      <th>97</th>\n",
       "      <td>Combined Low-Dose Isotretenion and Long-Pulsed...</td>\n",
       "      <td>Acne erythema consists of telangiectasia and e...</td>\n",
       "      <td>None</td>\n",
       "      <td>NCT05622253</td>\n",
       "    </tr>\n",
       "    <tr>\n",
       "      <th>98</th>\n",
       "      <td>Photodynamic Therapy (PDT) With Methyl Aminole...</td>\n",
       "      <td>In this multicenter study, patients with dark ...</td>\n",
       "      <td>None</td>\n",
       "      <td>NCT00673933</td>\n",
       "    </tr>\n",
       "    <tr>\n",
       "      <th>99</th>\n",
       "      <td>Light Dose Ranging Study of Photodynamic Thera...</td>\n",
       "      <td>The purpose of this study is to determine and ...</td>\n",
       "      <td>None</td>\n",
       "      <td>NCT00706433</td>\n",
       "    </tr>\n",
       "    <tr>\n",
       "      <th>100</th>\n",
       "      <td>A Study to Evaluate the Potential of Tazaroten...</td>\n",
       "      <td>The purpose of this study is to evaluate the p...</td>\n",
       "      <td>None</td>\n",
       "      <td>NCT01119651</td>\n",
       "    </tr>\n",
       "  </tbody>\n",
       "</table>\n",
       "<p>101 rows × 4 columns</p>\n",
       "</div>"
      ]
     },
     "execution_count": 16,
     "metadata": {},
     "output_type": "execute_result"
    }
   ],
   "execution_count": 16
  },
  {
   "metadata": {},
   "cell_type": "markdown",
   "source": "Since all the data is now in the same format, we can combine the results from PubMed and ClinicalTrials.gov into a single table.",
   "id": "3bda3705c745b32a"
  },
  {
   "metadata": {
    "ExecuteTime": {
     "end_time": "2024-04-15T13:44:32.188597Z",
     "start_time": "2024-04-15T13:44:32.184030Z"
    }
   },
   "cell_type": "code",
   "source": "pd.DataFrame(pubmed_studies + clinicaltrials_studies)",
   "id": "d332584095e22851",
   "outputs": [
    {
     "data": {
      "text/plain": [
       "                                                 title  \\\n",
       "0    Topical methyl aminolevulinate photodynamic th...   \n",
       "1                                          Topical ALA   \n",
       "2           Review of Ruxolitinib for Treatment of Non   \n",
       "3    Safe and effective onelaser device in super-pu...   \n",
       "4    Treatment of atrophic acne scars: Topical or i...   \n",
       "..                                                 ...   \n",
       "596  A Proof-of-Concept, Safety and Efficacy Study ...   \n",
       "597  Combined Low-Dose Isotretenion and Long-Pulsed...   \n",
       "598  Photodynamic Therapy (PDT) With Methyl Aminole...   \n",
       "599  Light Dose Ranging Study of Photodynamic Thera...   \n",
       "600  A Study to Evaluate the Potential of Tazaroten...   \n",
       "\n",
       "                                              abstract      pmid       nct_id  \n",
       "0    Photodynamic therapy (PDT) has been found to b...  17598868         None  \n",
       "1    Topical aminolevulinic acid is converted into ...  10951234         None  \n",
       "2    OBJECTIVE: To review the pharmacokinetics, eff...  36564903         None  \n",
       "3    Carbon dioxide (CO(2)) laser ablative fraction...  20814788         None  \n",
       "4    BACKGROUND: Atrophic postchallenge. OBJECTIVES...  34157162         None  \n",
       "..                                                 ...       ...          ...  \n",
       "596  This is an open-label, single-arm, single-cent...      None  NCT05499247  \n",
       "597  Acne erythema consists of telangiectasia and e...      None  NCT05622253  \n",
       "598  In this multicenter study, patients with dark ...      None  NCT00673933  \n",
       "599  The purpose of this study is to determine and ...      None  NCT00706433  \n",
       "600  The purpose of this study is to evaluate the p...      None  NCT01119651  \n",
       "\n",
       "[601 rows x 4 columns]"
      ],
      "text/html": [
       "<div>\n",
       "<style scoped>\n",
       "    .dataframe tbody tr th:only-of-type {\n",
       "        vertical-align: middle;\n",
       "    }\n",
       "\n",
       "    .dataframe tbody tr th {\n",
       "        vertical-align: top;\n",
       "    }\n",
       "\n",
       "    .dataframe thead th {\n",
       "        text-align: right;\n",
       "    }\n",
       "</style>\n",
       "<table border=\"1\" class=\"dataframe\">\n",
       "  <thead>\n",
       "    <tr style=\"text-align: right;\">\n",
       "      <th></th>\n",
       "      <th>title</th>\n",
       "      <th>abstract</th>\n",
       "      <th>pmid</th>\n",
       "      <th>nct_id</th>\n",
       "    </tr>\n",
       "  </thead>\n",
       "  <tbody>\n",
       "    <tr>\n",
       "      <th>0</th>\n",
       "      <td>Topical methyl aminolevulinate photodynamic th...</td>\n",
       "      <td>Photodynamic therapy (PDT) has been found to b...</td>\n",
       "      <td>17598868</td>\n",
       "      <td>None</td>\n",
       "    </tr>\n",
       "    <tr>\n",
       "      <th>1</th>\n",
       "      <td>Topical ALA</td>\n",
       "      <td>Topical aminolevulinic acid is converted into ...</td>\n",
       "      <td>10951234</td>\n",
       "      <td>None</td>\n",
       "    </tr>\n",
       "    <tr>\n",
       "      <th>2</th>\n",
       "      <td>Review of Ruxolitinib for Treatment of Non</td>\n",
       "      <td>OBJECTIVE: To review the pharmacokinetics, eff...</td>\n",
       "      <td>36564903</td>\n",
       "      <td>None</td>\n",
       "    </tr>\n",
       "    <tr>\n",
       "      <th>3</th>\n",
       "      <td>Safe and effective onelaser device in super-pu...</td>\n",
       "      <td>Carbon dioxide (CO(2)) laser ablative fraction...</td>\n",
       "      <td>20814788</td>\n",
       "      <td>None</td>\n",
       "    </tr>\n",
       "    <tr>\n",
       "      <th>4</th>\n",
       "      <td>Treatment of atrophic acne scars: Topical or i...</td>\n",
       "      <td>BACKGROUND: Atrophic postchallenge. OBJECTIVES...</td>\n",
       "      <td>34157162</td>\n",
       "      <td>None</td>\n",
       "    </tr>\n",
       "    <tr>\n",
       "      <th>...</th>\n",
       "      <td>...</td>\n",
       "      <td>...</td>\n",
       "      <td>...</td>\n",
       "      <td>...</td>\n",
       "    </tr>\n",
       "    <tr>\n",
       "      <th>596</th>\n",
       "      <td>A Proof-of-Concept, Safety and Efficacy Study ...</td>\n",
       "      <td>This is an open-label, single-arm, single-cent...</td>\n",
       "      <td>None</td>\n",
       "      <td>NCT05499247</td>\n",
       "    </tr>\n",
       "    <tr>\n",
       "      <th>597</th>\n",
       "      <td>Combined Low-Dose Isotretenion and Long-Pulsed...</td>\n",
       "      <td>Acne erythema consists of telangiectasia and e...</td>\n",
       "      <td>None</td>\n",
       "      <td>NCT05622253</td>\n",
       "    </tr>\n",
       "    <tr>\n",
       "      <th>598</th>\n",
       "      <td>Photodynamic Therapy (PDT) With Methyl Aminole...</td>\n",
       "      <td>In this multicenter study, patients with dark ...</td>\n",
       "      <td>None</td>\n",
       "      <td>NCT00673933</td>\n",
       "    </tr>\n",
       "    <tr>\n",
       "      <th>599</th>\n",
       "      <td>Light Dose Ranging Study of Photodynamic Thera...</td>\n",
       "      <td>The purpose of this study is to determine and ...</td>\n",
       "      <td>None</td>\n",
       "      <td>NCT00706433</td>\n",
       "    </tr>\n",
       "    <tr>\n",
       "      <th>600</th>\n",
       "      <td>A Study to Evaluate the Potential of Tazaroten...</td>\n",
       "      <td>The purpose of this study is to evaluate the p...</td>\n",
       "      <td>None</td>\n",
       "      <td>NCT01119651</td>\n",
       "    </tr>\n",
       "  </tbody>\n",
       "</table>\n",
       "<p>601 rows × 4 columns</p>\n",
       "</div>"
      ]
     },
     "execution_count": 17,
     "metadata": {},
     "output_type": "execute_result"
    }
   ],
   "execution_count": 17
  },
  {
   "metadata": {},
   "cell_type": "markdown",
   "source": "Once we have all the data in this DataFrame format, we can easily save the file to a CSV, Excel, or many other kinds of files.",
   "id": "7a0a12612c579f89"
  },
  {
   "metadata": {
    "ExecuteTime": {
     "end_time": "2024-04-15T13:44:33.630139Z",
     "start_time": "2024-04-15T13:44:33.616292Z"
    }
   },
   "cell_type": "code",
   "source": [
    "pd.DataFrame(pubmed_studies + clinicaltrials_studies).to_csv(\"studies_to_screen.csv\", index=False)\n",
    "# There should now be a file called \"studies_to_screen.csv\" in the current directory"
   ],
   "id": "32fab740a3cdb5fe",
   "outputs": [],
   "execution_count": 18
  },
  {
   "metadata": {},
   "cell_type": "markdown",
   "source": [
    "## Summary\n",
    "\n",
    "In this notebook, we've shown how to search ClinicalTrials.gov for clinical trials and how to deduplicate the results with PubMed. We've also shown how to retrieve the study data for screening. We've saved the results to a CSV file for further analysis.\n",
    "\n",
    "---\n",
    "[top](https://github.com/hscells/apis-for-evidence-identification)<br/>\n",
    "[next: Frequency Analysis](https://github.com/hscells/apis-for-evidence-identification/blob/main/3-use-cases/3-3-frequency-analysis.ipynb)<br/>\n",
    "[previous: Searching PubMed](https://github.com/hscells/apis-for-evidence-identification/blob/main/3-use-cases/3-1-searching-pubmed.ipynb)<br/>"
   ],
   "id": "d9b00941513c9a94"
  }
 ],
 "metadata": {
  "kernelspec": {
   "display_name": "Python 3",
   "language": "python",
   "name": "python3"
  },
  "language_info": {
   "codemirror_mode": {
    "name": "ipython",
    "version": 2
   },
   "file_extension": ".py",
   "mimetype": "text/x-python",
   "name": "python",
   "nbconvert_exporter": "python",
   "pygments_lexer": "ipython2",
   "version": "2.7.6"
  }
 },
 "nbformat": 4,
 "nbformat_minor": 5
}
