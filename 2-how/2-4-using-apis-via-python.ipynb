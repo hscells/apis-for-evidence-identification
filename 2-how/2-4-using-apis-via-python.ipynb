{
 "cells": [
  {
   "cell_type": "markdown",
   "source": [
    "# Using APIs via Python\n",
    "\n",
    "In this notebook, we will use the `requests` library to interact with APIs. We will use the `requests` library ([https://requests.readthedocs.io/en/master/](https://requests.readthedocs.io/en/master/)).\n",
    "\n",
    "For a quick overview of Python basics, some good resources include:\n",
    "\n",
    "- [https://www.learnpython.org/](https://www.learnpython.org/)\n",
    "- [https://www.w3schools.com/python/](https://www.w3schools.com/python/)\n",
    "- [https://learnxinyminutes.com/docs/python/](https://learnxinyminutes.com/docs/python/)"
   ],
   "metadata": {
    "collapsed": false
   },
   "id": "12d0efbb644a132b"
  },
  {
   "cell_type": "code",
   "outputs": [
    {
     "name": "stdout",
     "output_type": "stream",
     "text": [
      "Requirement already satisfied: requests in /Users/harry/Data/apis-for-evidence-identification/lib/python3.12/site-packages (2.31.0)\r\n",
      "Requirement already satisfied: charset-normalizer<4,>=2 in /Users/harry/Data/apis-for-evidence-identification/lib/python3.12/site-packages (from requests) (3.3.2)\r\n",
      "Requirement already satisfied: idna<4,>=2.5 in /Users/harry/Data/apis-for-evidence-identification/lib/python3.12/site-packages (from requests) (3.6)\r\n",
      "Requirement already satisfied: urllib3<3,>=1.21.1 in /Users/harry/Data/apis-for-evidence-identification/lib/python3.12/site-packages (from requests) (2.2.1)\r\n",
      "Requirement already satisfied: certifi>=2017.4.17 in /Users/harry/Data/apis-for-evidence-identification/lib/python3.12/site-packages (from requests) (2024.2.2)\r\n",
      "\r\n",
      "\u001B[1m[\u001B[0m\u001B[34;49mnotice\u001B[0m\u001B[1;39;49m]\u001B[0m\u001B[39;49m A new release of pip is available: \u001B[0m\u001B[31;49m23.2.1\u001B[0m\u001B[39;49m -> \u001B[0m\u001B[32;49m24.0\u001B[0m\r\n",
      "\u001B[1m[\u001B[0m\u001B[34;49mnotice\u001B[0m\u001B[1;39;49m]\u001B[0m\u001B[39;49m To update, run: \u001B[0m\u001B[32;49mpip install --upgrade pip\u001B[0m\r\n"
     ]
    }
   ],
   "source": [
    "# When a line is preceded by a `#`, it is a comment and not executed.\n",
    "# We first need to install the requests library\n",
    "!pip install requests\n",
    "import requests"
   ],
   "metadata": {
    "collapsed": false,
    "ExecuteTime": {
     "end_time": "2024-04-05T10:58:35.771295Z",
     "start_time": "2024-04-05T10:58:35.000518Z"
    }
   },
   "id": "b30a4ef83e8630d3",
   "execution_count": 2
  },
  {
   "cell_type": "markdown",
   "source": [
    "We'll now make the same request as before, but using the `requests` library with Python."
   ],
   "metadata": {
    "collapsed": false
   },
   "id": "6316b910d043b0fa"
  },
  {
   "cell_type": "code",
   "outputs": [
    {
     "data": {
      "text/plain": "{'header': {'type': 'esearch', 'version': '0.3'},\n 'esearchresult': {'count': '11797794',\n  'retmax': '20',\n  'retstart': '0',\n  'idlist': ['38577845',\n   '38577820',\n   '38577811',\n   '38577809',\n   '38577804',\n   '38577794',\n   '38577791',\n   '38577788',\n   '38577784',\n   '38577783',\n   '38577761',\n   '38577756',\n   '38577746',\n   '38577740',\n   '38577738',\n   '38577726',\n   '38577722',\n   '38577717',\n   '38577713',\n   '38577711'],\n  'translationset': [{'from': 'diagnostic',\n    'to': '\"diagnosis\"[MeSH Terms] OR \"diagnosis\"[All Fields] OR \"diagnostic\"[All Fields] OR \"diagnostical\"[All Fields] OR \"diagnostically\"[All Fields] OR \"diagnostics\"[All Fields]'}],\n  'querytranslation': '\"diagnosis\"[MeSH Terms] OR \"diagnosis\"[All Fields] OR \"diagnostic\"[All Fields] OR \"diagnostical\"[All Fields] OR \"diagnostically\"[All Fields] OR \"diagnostics\"[All Fields]'}}"
     },
     "execution_count": 4,
     "metadata": {},
     "output_type": "execute_result"
    }
   ],
   "source": [
    "response = requests.get(url=\"https://eutils.ncbi.nlm.nih.gov/entrez/eutils/esearch.fcgi\", params={\"db\": \"pubmed\", \"term\": \"diagnostic\", \"format\": \"json\"}).json()"
   ],
   "metadata": {
    "collapsed": false,
    "ExecuteTime": {
     "end_time": "2024-04-05T10:58:42.371323Z",
     "start_time": "2024-04-05T10:58:41.460243Z"
    }
   },
   "id": "dd78d666da656fed",
   "execution_count": 4
  },
  {
   "cell_type": "code",
   "outputs": [],
   "source": [],
   "metadata": {
    "collapsed": false
   },
   "id": "bda97a74062dab37"
  }
 ],
 "metadata": {
  "kernelspec": {
   "display_name": "Python 3",
   "language": "python",
   "name": "python3"
  },
  "language_info": {
   "codemirror_mode": {
    "name": "ipython",
    "version": 2
   },
   "file_extension": ".py",
   "mimetype": "text/x-python",
   "name": "python",
   "nbconvert_exporter": "python",
   "pygments_lexer": "ipython2",
   "version": "2.7.6"
  }
 },
 "nbformat": 4,
 "nbformat_minor": 5
}
