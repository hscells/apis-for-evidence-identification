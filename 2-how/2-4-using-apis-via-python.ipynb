{
 "cells": [
  {
   "cell_type": "markdown",
   "source": [
    "# Using APIs via Python\n",
    "\n",
    "In this notebook, we will use the `requests` library to interact with APIs. We will use the `requests` library ([https://requests.readthedocs.io/en/master/](https://requests.readthedocs.io/en/master/)).\n",
    "\n",
    "For a quick overview of Python basics, some good resources include:\n",
    "\n",
    "- [https://www.learnpython.org/](https://www.learnpython.org/)\n",
    "- [https://www.w3schools.com/python/](https://www.w3schools.com/python/)\n",
    "- [https://learnxinyminutes.com/docs/python/](https://learnxinyminutes.com/docs/python/)"
   ],
   "metadata": {
    "collapsed": false
   },
   "id": "12d0efbb644a132b"
  },
  {
   "cell_type": "code",
   "outputs": [
    {
     "name": "stdout",
     "output_type": "stream",
     "text": [
      "Requirement already satisfied: requests in /Users/harry/Data/apis-for-evidence-identification/lib/python3.12/site-packages (2.31.0)\r\n",
      "Requirement already satisfied: charset-normalizer<4,>=2 in /Users/harry/Data/apis-for-evidence-identification/lib/python3.12/site-packages (from requests) (3.3.2)\r\n",
      "Requirement already satisfied: idna<4,>=2.5 in /Users/harry/Data/apis-for-evidence-identification/lib/python3.12/site-packages (from requests) (3.6)\r\n",
      "Requirement already satisfied: urllib3<3,>=1.21.1 in /Users/harry/Data/apis-for-evidence-identification/lib/python3.12/site-packages (from requests) (2.2.1)\r\n",
      "Requirement already satisfied: certifi>=2017.4.17 in /Users/harry/Data/apis-for-evidence-identification/lib/python3.12/site-packages (from requests) (2024.2.2)\r\n",
      "\r\n",
      "\u001B[1m[\u001B[0m\u001B[34;49mnotice\u001B[0m\u001B[1;39;49m]\u001B[0m\u001B[39;49m A new release of pip is available: \u001B[0m\u001B[31;49m23.2.1\u001B[0m\u001B[39;49m -> \u001B[0m\u001B[32;49m24.0\u001B[0m\r\n",
      "\u001B[1m[\u001B[0m\u001B[34;49mnotice\u001B[0m\u001B[1;39;49m]\u001B[0m\u001B[39;49m To update, run: \u001B[0m\u001B[32;49mpip install --upgrade pip\u001B[0m\r\n"
     ]
    }
   ],
   "source": [
    "# When a line is preceded by a `#`, it is a comment and not executed.\n",
    "# We first need to install the requests library\n",
    "!pip install requests\n",
    "import requests"
   ],
   "metadata": {
    "collapsed": false,
    "ExecuteTime": {
     "end_time": "2024-04-05T11:04:18.008770Z",
     "start_time": "2024-04-05T11:04:17.276385Z"
    }
   },
   "id": "b30a4ef83e8630d3",
   "execution_count": 5
  },
  {
   "cell_type": "markdown",
   "source": [
    "We'll now make the same request as before, but using the `requests` library with Python."
   ],
   "metadata": {
    "collapsed": false
   },
   "id": "6316b910d043b0fa"
  },
  {
   "cell_type": "code",
   "outputs": [],
   "source": [
    "response = requests.get(url=\"https://eutils.ncbi.nlm.nih.gov/entrez/eutils/esearch.fcgi\", params={\"db\": \"pubmed\", \"term\": \"diagnostic\", \"format\": \"json\"}).json()"
   ],
   "metadata": {
    "collapsed": false,
    "ExecuteTime": {
     "end_time": "2024-04-05T11:04:19.037905Z",
     "start_time": "2024-04-05T11:04:18.010170Z"
    }
   },
   "id": "dd78d666da656fed",
   "execution_count": 6
  },
  {
   "cell_type": "code",
   "outputs": [],
   "source": [],
   "metadata": {
    "collapsed": false,
    "ExecuteTime": {
     "end_time": "2024-04-05T11:04:19.042946Z",
     "start_time": "2024-04-05T11:04:19.040369Z"
    }
   },
   "id": "bda97a74062dab37",
   "execution_count": 6
  }
 ],
 "metadata": {
  "kernelspec": {
   "display_name": "Python 3",
   "language": "python",
   "name": "python3"
  },
  "language_info": {
   "codemirror_mode": {
    "name": "ipython",
    "version": 2
   },
   "file_extension": ".py",
   "mimetype": "text/x-python",
   "name": "python",
   "nbconvert_exporter": "python",
   "pygments_lexer": "ipython2",
   "version": "2.7.6"
  }
 },
 "nbformat": 4,
 "nbformat_minor": 5
}
