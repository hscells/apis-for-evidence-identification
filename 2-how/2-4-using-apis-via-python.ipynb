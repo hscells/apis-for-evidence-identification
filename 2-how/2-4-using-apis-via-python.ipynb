{
 "cells": [
  {
   "cell_type": "markdown",
   "source": [
    "# Using APIs via Python\n",
    "\n",
    "[![Open In Colab](https://colab.research.google.com/assets/colab-badge.svg)](https://colab.research.google.com/github/hscells/apis-for-evidence-identification/blob/main/2-how/2-4-using-apis-via-python.ipynb) \n",
    "\n",
    "From now on, we'll use these interactive Jupyter notebooks so you can get a hands-on experience with the APIs. This Jupyter notebooks are interactive files that intermix code and content. You can click the button above to open this notebook in Google Colab, which is a free Jupyter notebook environment that runs in the cloud. You can also download these files if you have Jupyter installed in your computer and run them locally.\n",
    "\n",
    "These notebooks are the equivalent to R notebooks in the Python world. For a quick overview of Python basics, some good resources include:\n",
    "\n",
    "- [https://librarycarpentry.org/lc-python-intro/index.html](https://librarycarpentry.org/lc-python-intro/index.html)\n",
    "- [https://www.learnpython.org/](https://www.learnpython.org/)\n",
    "- [https://learnxinyminutes.com/docs/python/](https://learnxinyminutes.com/docs/python/)\n",
    "\n",
    "If you are not just viewing this notebook, e.g., if you opened it in colab using the button above, notebooks cells can be run by putting your mouse cursor inside one of the cells and pressing `Shift + Enter`. You can also run cells by clicking the `Run` button if there is a toolbar above.\n",
    "\n",
    "Start by running the cell below that sets up the environment for the rest of the notebook."
   ],
   "metadata": {
    "collapsed": false
   },
   "id": "12d0efbb644a132b"
  },
  {
   "cell_type": "code",
   "source": [
    "!pip install requests pandas -q\n",
    "import requests\n",
    "import pandas as pd"
   ],
   "metadata": {
    "collapsed": false,
    "ExecuteTime": {
     "end_time": "2024-04-16T08:03:30.157038Z",
     "start_time": "2024-04-16T08:03:28.795086Z"
    }
   },
   "id": "b30a4ef83e8630d3",
   "outputs": [],
   "execution_count": 1
  },
  {
   "cell_type": "markdown",
   "source": [
    "## Initial Exploration of the PubMed API\n",
    "\n",
    "We'll now make the same request as before, but using the `requests` library with Python."
   ],
   "metadata": {
    "collapsed": false
   },
   "id": "6316b910d043b0fa"
  },
  {
   "cell_type": "code",
   "source": [
    "response = requests.get(  # GET request\n",
    "    url=\"https://eutils.ncbi.nlm.nih.gov/entrez/eutils/esearch.fcgi\",  # URL of the API\n",
    "    params={  # Parameters of the request\n",
    "        \"db\": \"pubmed\",\n",
    "        \"term\": \"diagnostic\",\n",
    "        \"format\": \"json\"\n",
    "    }\n",
    ").json()  # Parse the response as JSON\n",
    "response"
   ],
   "metadata": {
    "collapsed": false,
    "ExecuteTime": {
     "end_time": "2024-04-16T08:03:31.114513Z",
     "start_time": "2024-04-16T08:03:30.158618Z"
    }
   },
   "id": "dd78d666da656fed",
   "outputs": [
    {
     "data": {
      "text/plain": [
       "{'header': {'type': 'esearch', 'version': '0.3'},\n",
       " 'esearchresult': {'count': '11808236',\n",
       "  'retmax': '20',\n",
       "  'retstart': '0',\n",
       "  'idlist': ['38622011',\n",
       "   '38621987',\n",
       "   '38621906',\n",
       "   '38621854',\n",
       "   '38621841',\n",
       "   '38621837',\n",
       "   '38621836',\n",
       "   '38621798',\n",
       "   '38621795',\n",
       "   '38621791',\n",
       "   '38621790',\n",
       "   '38621786',\n",
       "   '38621783',\n",
       "   '38621771',\n",
       "   '38621761',\n",
       "   '38621754',\n",
       "   '38621739',\n",
       "   '38621735',\n",
       "   '38621734',\n",
       "   '38621722'],\n",
       "  'translationset': [{'from': 'diagnostic',\n",
       "    'to': '\"diagnosis\"[MeSH Terms] OR \"diagnosis\"[All Fields] OR \"diagnostic\"[All Fields] OR \"diagnostical\"[All Fields] OR \"diagnostically\"[All Fields] OR \"diagnostics\"[All Fields]'}],\n",
       "  'querytranslation': '\"diagnosis\"[MeSH Terms] OR \"diagnosis\"[All Fields] OR \"diagnostic\"[All Fields] OR \"diagnostical\"[All Fields] OR \"diagnostically\"[All Fields] OR \"diagnostics\"[All Fields]'}}"
      ]
     },
     "execution_count": 2,
     "metadata": {},
     "output_type": "execute_result"
    }
   ],
   "execution_count": 2
  },
  {
   "cell_type": "markdown",
   "source": [
    "The only difference now is that we can directly manipulate the data that we got from the API. For example, we can extract from these results the number of articles that match our search term."
   ],
   "metadata": {
    "collapsed": false
   },
   "id": "83493b1390ac6ce2"
  },
  {
   "cell_type": "code",
   "source": [
    "response[\"esearchresult\"][\"count\"]"
   ],
   "metadata": {
    "collapsed": false,
    "ExecuteTime": {
     "end_time": "2024-04-16T08:03:31.120786Z",
     "start_time": "2024-04-16T08:03:31.116410Z"
    }
   },
   "id": "f01ae457b1e8d124",
   "outputs": [
    {
     "data": {
      "text/plain": [
       "'11808236'"
      ]
     },
     "execution_count": 3,
     "metadata": {},
     "output_type": "execute_result"
    }
   ],
   "execution_count": 3
  },
  {
   "cell_type": "markdown",
   "source": [
    "We can also extract the list of PMIDs that match our search term. "
   ],
   "metadata": {
    "collapsed": false
   },
   "id": "634f6a49c703a922"
  },
  {
   "cell_type": "code",
   "source": [
    "response[\"esearchresult\"][\"idlist\"]"
   ],
   "metadata": {
    "collapsed": false,
    "ExecuteTime": {
     "end_time": "2024-04-16T08:03:31.127404Z",
     "start_time": "2024-04-16T08:03:31.124095Z"
    }
   },
   "id": "b3541fcbdbd0c8d6",
   "outputs": [
    {
     "data": {
      "text/plain": [
       "['38622011',\n",
       " '38621987',\n",
       " '38621906',\n",
       " '38621854',\n",
       " '38621841',\n",
       " '38621837',\n",
       " '38621836',\n",
       " '38621798',\n",
       " '38621795',\n",
       " '38621791',\n",
       " '38621790',\n",
       " '38621786',\n",
       " '38621783',\n",
       " '38621771',\n",
       " '38621761',\n",
       " '38621754',\n",
       " '38621739',\n",
       " '38621735',\n",
       " '38621734',\n",
       " '38621722']"
      ]
     },
     "execution_count": 4,
     "metadata": {},
     "output_type": "execute_result"
    }
   ],
   "execution_count": 4
  },
  {
   "cell_type": "markdown",
   "source": [
    "Note that we only get the first 20 PMIDs, as this is the default behavior of the API. We can change this by adding the `retmax` parameter to the request."
   ],
   "metadata": {
    "collapsed": false
   },
   "id": "a644abf28348bac3"
  },
  {
   "cell_type": "code",
   "source": [
    "response = requests.get(  # GET request\n",
    "    url=\"https://eutils.ncbi.nlm.nih.gov/entrez/eutils/esearch.fcgi\",  # URL of the API\n",
    "    params={  # Parameters of the request\n",
    "        \"db\": \"pubmed\",\n",
    "        \"term\": \"diagnostic\",\n",
    "        \"format\": \"json\",\n",
    "        \"retmax\": 100,  # <- We've changed the default value of 20 to 100\n",
    "    }\n",
    ").json()  # Parse the response as JSON\n",
    "response[\"esearchresult\"][\"idlist\"]"
   ],
   "metadata": {
    "collapsed": false,
    "ExecuteTime": {
     "end_time": "2024-04-16T08:03:32.115891Z",
     "start_time": "2024-04-16T08:03:31.128604Z"
    }
   },
   "id": "8206669369e2a3e3",
   "outputs": [
    {
     "data": {
      "text/plain": [
       "['38622011',\n",
       " '38621987',\n",
       " '38621906',\n",
       " '38621854',\n",
       " '38621841',\n",
       " '38621837',\n",
       " '38621836',\n",
       " '38621798',\n",
       " '38621795',\n",
       " '38621791',\n",
       " '38621790',\n",
       " '38621786',\n",
       " '38621783',\n",
       " '38621771',\n",
       " '38621761',\n",
       " '38621754',\n",
       " '38621739',\n",
       " '38621735',\n",
       " '38621734',\n",
       " '38621722',\n",
       " '38621710',\n",
       " '38621704',\n",
       " '38621702',\n",
       " '38621694',\n",
       " '38621693',\n",
       " '38621692',\n",
       " '38621689',\n",
       " '38621687',\n",
       " '38621686',\n",
       " '38621685',\n",
       " '38621682',\n",
       " '38621675',\n",
       " '38621655',\n",
       " '38621622',\n",
       " '38621589',\n",
       " '38621587',\n",
       " '38621586',\n",
       " '38621580',\n",
       " '38621579',\n",
       " '38621576',\n",
       " '38621561',\n",
       " '38621553',\n",
       " '38621551',\n",
       " '38621550',\n",
       " '38621521',\n",
       " '38621512',\n",
       " '38621506',\n",
       " '38621502',\n",
       " '38621495',\n",
       " '38621479',\n",
       " '38621473',\n",
       " '38621446',\n",
       " '38621440',\n",
       " '38621435',\n",
       " '38621400',\n",
       " '38621394',\n",
       " '38621391',\n",
       " '38621388',\n",
       " '38621375',\n",
       " '38621341',\n",
       " '38621340',\n",
       " '38621335',\n",
       " '38621334',\n",
       " '38621331',\n",
       " '38621327',\n",
       " '38622753',\n",
       " '38622745',\n",
       " '38622737',\n",
       " '38622727',\n",
       " '38622713',\n",
       " '38622711',\n",
       " '38622709',\n",
       " '38622699',\n",
       " '38622694',\n",
       " '38622685',\n",
       " '38622682',\n",
       " '38622681',\n",
       " '38622656',\n",
       " '38622639',\n",
       " '38622617',\n",
       " '38622608',\n",
       " '38622605',\n",
       " '38622601',\n",
       " '38622599',\n",
       " '38622593',\n",
       " '38622591',\n",
       " '38622573',\n",
       " '38622570',\n",
       " '38622559',\n",
       " '38622555',\n",
       " '38622538',\n",
       " '38622532',\n",
       " '38622530',\n",
       " '38622527',\n",
       " '38622525',\n",
       " '38622524',\n",
       " '38622522',\n",
       " '38622520',\n",
       " '38622519',\n",
       " '38622515']"
      ]
     },
     "execution_count": 5,
     "metadata": {},
     "output_type": "execute_result"
    }
   ],
   "execution_count": 5
  },
  {
   "cell_type": "markdown",
   "source": [
    "## Initial Exploration of the ClinicalTrials.gov API\n",
    "\n",
    "We can also use the same code snippet to explore the ClinicalTrials.gov API. Let's start by searching for clinical trials that contain the term \"heart attack\"."
   ],
   "metadata": {
    "collapsed": false
   },
   "id": "8870e81891bc94cd"
  },
  {
   "cell_type": "code",
   "source": [
    "response = requests.get(  # GET request\n",
    "    url=\" https://clinicaltrials.gov/api/v2/studies\",  # URL of the API\n",
    "    params={  # Parameters of the request\n",
    "        \"query.cond\": \"heart+attack\",\n",
    "        \"pageSize\": 20, \n",
    "        \"format\": \"json\",\n",
    "        \"countTotal\": \"true\"\n",
    "    }\n",
    ").json()  # Parse the response as JSON"
   ],
   "metadata": {
    "collapsed": false,
    "ExecuteTime": {
     "end_time": "2024-04-16T08:03:32.397208Z",
     "start_time": "2024-04-16T08:03:32.117469Z"
    }
   },
   "id": "2ada1920ac41facf",
   "outputs": [],
   "execution_count": 6
  },
  {
   "cell_type": "markdown",
   "source": [
    "There are many more fields in this response, but we can extract the number of studies that match our search term, and the titles and IDs of the first 20 studies."
   ],
   "metadata": {
    "collapsed": false
   },
   "id": "bd71ebff03de2c4c"
  },
  {
   "cell_type": "code",
   "source": "response[\"totalCount\"]",
   "metadata": {
    "collapsed": false,
    "ExecuteTime": {
     "end_time": "2024-04-16T08:03:32.400505Z",
     "start_time": "2024-04-16T08:03:32.397906Z"
    }
   },
   "id": "3f334f5410d9a451",
   "outputs": [
    {
     "data": {
      "text/plain": [
       "3299"
      ]
     },
     "execution_count": 7,
     "metadata": {},
     "output_type": "execute_result"
    }
   ],
   "execution_count": 7
  },
  {
   "cell_type": "code",
   "source": [
    "for study in response[\"studies\"]:\n",
    "    print(study[\"protocolSection\"][\"identificationModule\"][\"nctId\"],\n",
    "          study[\"protocolSection\"][\"identificationModule\"][\"officialTitle\"])"
   ],
   "metadata": {
    "collapsed": false,
    "ExecuteTime": {
     "end_time": "2024-04-16T08:03:32.403404Z",
     "start_time": "2024-04-16T08:03:32.401045Z"
    }
   },
   "id": "b2e4e7f7b88e2af0",
   "outputs": [
    {
     "name": "stdout",
     "output_type": "stream",
     "text": [
      "NCT02137980 Registry of Non-primary Angioplasty at Hospitals Without Surgery On-site\n",
      "NCT02762162 Online Assistance for Stent Thrombosis\n",
      "NCT05435391 A Prospective, Multicenter, Observational Diagnostic Study to Externally Validate an Artificial Intelligence 12-lead Electrocardiogram Analysis Algorithm to Detect Patients With Acute Myocardial Infarction Who Visit Emergency Medical Center\n",
      "NCT04335162 Cardiovascular Complications in Patients With COVID-19\n",
      "NCT00305162 A Clinical Trial Comparing Cangrelor to Clopidogrel in Subjects Who Require Percutaneous Coronary Intervention (PCI).\n",
      "NCT04127591 Differential Expression and Analysis of Peripheral Plasma Exosome miRNA in Patients With Myocardial Infarction\n",
      "NCT04465591 Troponin T Fragmentation in the Assessment of Myocardial Injury Study\n",
      "NCT01636180 Effect of the Repeated Loading Dose of Clopidogrel and High Dose of Clopidogrel Continuous Therapy on the Platelet Aggregation Inhibition in Patients With Myocardial Infarction Undergoing Interventional Treatment.\n",
      "NCT00910962 A Randomized, Double-blind, Placebo-controlled Study to Evaluate the Safety of 12 Weeks of Dosing With GW856553 and Its Effects on Inflammatory Markers, Infarct Size, and Cardiac Function in Subjects With Myocardial Infarction Without ST-segment Elevation\n",
      "NCT00250380 The Study on Profile and Genetic Factors of Aspirin Resistance (ProGEAR Study)-A Prospective Multicenter Cohort Study-\n",
      "NCT03045562 Effects of Salvianolate Injection on Myocardial Microcirculation in Patients With Acute ST Segment Elevation Myocardial Infarction After Primary PCI\n",
      "NCT01642329 Portuguese Registry on Acute Coronary Syndromes\n",
      "NCT01225562 A Randomized, Double-Blind, Placebo Controlled, Parallel Group, Multinational Trial, to Assess the Prevention of Thrombotic Events With Ticagrelor Compared to Placebo on a Background of Acetyl Salicylic Acid (ASA) Therapy in Patients With History of Myocardial Infarction\n",
      "NCT03104062 Effect of Ticagrelor and Clopidogrel on Coronary Microcirculation in Patients With Acute Myocardial Infarction\n",
      "NCT03677180 National Cardiogenic Shock Initiative\n",
      "NCT00001629 The Role of Angiotensin Type I Receptor in the Regulation of Human Coronary Vascular Function\n",
      "NCT05476991 Reducing Inflammation in Ischemic Stroke With Colchicine, and Ticagrelor in High-risk Patients-extended Treatment in Ischemic Stroke\n",
      "NCT01197729 OPTAMI (Optimierte Therapie Des Akuten Myokard-Infarktes) - Register\n",
      "NCT05335629 Evaluation of the Effect of Dapagliflozin on Cardiac Remodeling in Post Myocardial Infarction Patients\n",
      "NCT02732080 Effect of Gradual Reperfusion on Myocardial Edema and Coronary Microvascular Integrity in Patients Undergoing Primary Percutaneous Coronary Intervention\n"
     ]
    }
   ],
   "execution_count": 8
  },
  {
   "cell_type": "markdown",
   "source": [
    "Because we have all the data in a structured format, we can easily manipulate it. For example, we can extract the list of conditions that are being studied in these trials."
   ],
   "metadata": {
    "collapsed": false
   },
   "id": "909050587cdbbe25"
  },
  {
   "cell_type": "code",
   "source": [
    "for study in response[\"studies\"]:\n",
    "    print(study[\"protocolSection\"][\"conditionsModule\"][\"conditions\"])"
   ],
   "metadata": {
    "collapsed": false,
    "ExecuteTime": {
     "end_time": "2024-04-16T08:03:32.406781Z",
     "start_time": "2024-04-16T08:03:32.404215Z"
    }
   },
   "id": "8d26389e248e2344",
   "outputs": [
    {
     "name": "stdout",
     "output_type": "stream",
     "text": [
      "['Coronary Artery Disease', 'Heart Attack', 'Angina']\n",
      "['Acute Coronary Syndrome', 'Percutaneous Coronary Intervention', 'Myocardial Infarction']\n",
      "['Myocardial Infarction or Chest Pain']\n",
      "['COVID', 'Acute Coronary Syndrome', 'Myocardial Infarction', 'Myocarditis', 'Venous Thromboembolism', 'Deep Vein Thrombosis', 'Pulmonary Embolism']\n",
      "['Myocardial Infarction (MI)', 'Acute Coronary Syndromes (ACS)']\n",
      "['Myocardial Infarction']\n",
      "['Acute Myocardial Infarction Type 1', 'Myocardial Injury']\n",
      "['Acute Myocardial Infarction']\n",
      "['Acute Coronary Syndrome']\n",
      "['Coronary Disease', 'Cerebral Infarction', 'Ischemic Attack, Transient']\n",
      "['STEMI - ST Elevation Myocardial Infarction']\n",
      "['Acute Coronary Syndrome']\n",
      "['Myocardial Infarction', 'Cardiovascular Death', 'Atherothrombosis', 'Stroke']\n",
      "['Coronary Microvascular Disease', 'Ticagrelor', 'Thrombolysis', 'Microbubble Contrasted Echocardiography']\n",
      "['Cardiogenic Shock', 'Acute Myocardial Infarction', 'STEMI - ST Elevation Myocardial Infarction', 'NSTEMI - Non-ST Segment Elevation MI', 'Heart Attack']\n",
      "['Atherosclerosis', 'Heart Failure, Congestive', 'Hypertension', 'Myocardial Infarction']\n",
      "['Stroke', 'Stroke, Ischemic', 'Atherosclerosis', 'Myocardial Infarction', 'Coronary Syndrome', 'TIA', 'Cardiac Disease', 'Cerebral Infarction']\n",
      "['Myocardial Infarction', 'ST-Elevation Myocardial Infarction', 'Non-ST-Elevation Myocardial Infarction']\n",
      "['Myocardial Infarction', 'Diabetes Mellitus, Type 2', 'Myocardial Remodeling, Ventricular']\n",
      "['ST-elevation Acute Myocardial Infarction']\n"
     ]
    }
   ],
   "execution_count": 9
  },
  {
   "cell_type": "markdown",
   "source": [
    "We can even start to make some simple analyses. For example, we can count the number of studies that are being conducted in each country."
   ],
   "metadata": {
    "collapsed": false
   },
   "id": "1ec5c213f094f994"
  },
  {
   "cell_type": "code",
   "source": [
    "from collections import Counter\n",
    "\n",
    "# Stores the number of studies per country\n",
    "countries = Counter()\n",
    "\n",
    "# Iterates over the studies\n",
    "for study in response[\"studies\"]:\n",
    "    locations = study[\"protocolSection\"][\"contactsLocationsModule\"]\n",
    "    if \"locations\" in locations:  # Some studies don't have location information\n",
    "        location = study[\"protocolSection\"][\"contactsLocationsModule\"][\"locations\"]\n",
    "        for loc in location:  # Some studies have multiple locations\n",
    "            if \"country\" in loc:  # Some locations don't have country information\n",
    "                countries.update([loc[\"country\"]])  # Increments the count of studies in this country\n",
    "\n",
    "df_countries = pd.DataFrame.from_records(countries.most_common(), columns=[\"Country\", \"Count\"])\n",
    "df_countries"
   ],
   "metadata": {
    "collapsed": false,
    "ExecuteTime": {
     "end_time": "2024-04-16T08:03:32.416515Z",
     "start_time": "2024-04-16T08:03:32.408611Z"
    }
   },
   "id": "78e42eb1e0b170fa",
   "outputs": [
    {
     "data": {
      "text/plain": [
       "               Country  Count\n",
       "0        United States    396\n",
       "1                Japan     73\n",
       "2              Germany     64\n",
       "3               Canada     50\n",
       "4          Netherlands     41\n",
       "5               Poland     37\n",
       "6            Australia     36\n",
       "7               France     34\n",
       "8       United Kingdom     31\n",
       "9                Italy     28\n",
       "10             Belgium     27\n",
       "11           Argentina     24\n",
       "12      Czech Republic     23\n",
       "13               Spain     21\n",
       "14              Brazil     21\n",
       "15             Hungary     18\n",
       "16  Russian Federation     17\n",
       "17               China     16\n",
       "18             Romania     16\n",
       "19            Slovakia     16\n",
       "20        South Africa     15\n",
       "21  Korea, Republic of     13\n",
       "22              Sweden     13\n",
       "23              Norway     12\n",
       "24            Bulgaria     11\n",
       "25            Colombia     11\n",
       "26         Philippines     11\n",
       "27             Ukraine     10\n",
       "28              Turkey      8\n",
       "29               Chile      7\n",
       "30               India      6\n",
       "31                Peru      5\n",
       "32             Finland      1\n",
       "33         Switzerland      1\n",
       "34            Portugal      1\n",
       "35               Egypt      1"
      ],
      "text/html": [
       "<div>\n",
       "<style scoped>\n",
       "    .dataframe tbody tr th:only-of-type {\n",
       "        vertical-align: middle;\n",
       "    }\n",
       "\n",
       "    .dataframe tbody tr th {\n",
       "        vertical-align: top;\n",
       "    }\n",
       "\n",
       "    .dataframe thead th {\n",
       "        text-align: right;\n",
       "    }\n",
       "</style>\n",
       "<table border=\"1\" class=\"dataframe\">\n",
       "  <thead>\n",
       "    <tr style=\"text-align: right;\">\n",
       "      <th></th>\n",
       "      <th>Country</th>\n",
       "      <th>Count</th>\n",
       "    </tr>\n",
       "  </thead>\n",
       "  <tbody>\n",
       "    <tr>\n",
       "      <th>0</th>\n",
       "      <td>United States</td>\n",
       "      <td>396</td>\n",
       "    </tr>\n",
       "    <tr>\n",
       "      <th>1</th>\n",
       "      <td>Japan</td>\n",
       "      <td>73</td>\n",
       "    </tr>\n",
       "    <tr>\n",
       "      <th>2</th>\n",
       "      <td>Germany</td>\n",
       "      <td>64</td>\n",
       "    </tr>\n",
       "    <tr>\n",
       "      <th>3</th>\n",
       "      <td>Canada</td>\n",
       "      <td>50</td>\n",
       "    </tr>\n",
       "    <tr>\n",
       "      <th>4</th>\n",
       "      <td>Netherlands</td>\n",
       "      <td>41</td>\n",
       "    </tr>\n",
       "    <tr>\n",
       "      <th>5</th>\n",
       "      <td>Poland</td>\n",
       "      <td>37</td>\n",
       "    </tr>\n",
       "    <tr>\n",
       "      <th>6</th>\n",
       "      <td>Australia</td>\n",
       "      <td>36</td>\n",
       "    </tr>\n",
       "    <tr>\n",
       "      <th>7</th>\n",
       "      <td>France</td>\n",
       "      <td>34</td>\n",
       "    </tr>\n",
       "    <tr>\n",
       "      <th>8</th>\n",
       "      <td>United Kingdom</td>\n",
       "      <td>31</td>\n",
       "    </tr>\n",
       "    <tr>\n",
       "      <th>9</th>\n",
       "      <td>Italy</td>\n",
       "      <td>28</td>\n",
       "    </tr>\n",
       "    <tr>\n",
       "      <th>10</th>\n",
       "      <td>Belgium</td>\n",
       "      <td>27</td>\n",
       "    </tr>\n",
       "    <tr>\n",
       "      <th>11</th>\n",
       "      <td>Argentina</td>\n",
       "      <td>24</td>\n",
       "    </tr>\n",
       "    <tr>\n",
       "      <th>12</th>\n",
       "      <td>Czech Republic</td>\n",
       "      <td>23</td>\n",
       "    </tr>\n",
       "    <tr>\n",
       "      <th>13</th>\n",
       "      <td>Spain</td>\n",
       "      <td>21</td>\n",
       "    </tr>\n",
       "    <tr>\n",
       "      <th>14</th>\n",
       "      <td>Brazil</td>\n",
       "      <td>21</td>\n",
       "    </tr>\n",
       "    <tr>\n",
       "      <th>15</th>\n",
       "      <td>Hungary</td>\n",
       "      <td>18</td>\n",
       "    </tr>\n",
       "    <tr>\n",
       "      <th>16</th>\n",
       "      <td>Russian Federation</td>\n",
       "      <td>17</td>\n",
       "    </tr>\n",
       "    <tr>\n",
       "      <th>17</th>\n",
       "      <td>China</td>\n",
       "      <td>16</td>\n",
       "    </tr>\n",
       "    <tr>\n",
       "      <th>18</th>\n",
       "      <td>Romania</td>\n",
       "      <td>16</td>\n",
       "    </tr>\n",
       "    <tr>\n",
       "      <th>19</th>\n",
       "      <td>Slovakia</td>\n",
       "      <td>16</td>\n",
       "    </tr>\n",
       "    <tr>\n",
       "      <th>20</th>\n",
       "      <td>South Africa</td>\n",
       "      <td>15</td>\n",
       "    </tr>\n",
       "    <tr>\n",
       "      <th>21</th>\n",
       "      <td>Korea, Republic of</td>\n",
       "      <td>13</td>\n",
       "    </tr>\n",
       "    <tr>\n",
       "      <th>22</th>\n",
       "      <td>Sweden</td>\n",
       "      <td>13</td>\n",
       "    </tr>\n",
       "    <tr>\n",
       "      <th>23</th>\n",
       "      <td>Norway</td>\n",
       "      <td>12</td>\n",
       "    </tr>\n",
       "    <tr>\n",
       "      <th>24</th>\n",
       "      <td>Bulgaria</td>\n",
       "      <td>11</td>\n",
       "    </tr>\n",
       "    <tr>\n",
       "      <th>25</th>\n",
       "      <td>Colombia</td>\n",
       "      <td>11</td>\n",
       "    </tr>\n",
       "    <tr>\n",
       "      <th>26</th>\n",
       "      <td>Philippines</td>\n",
       "      <td>11</td>\n",
       "    </tr>\n",
       "    <tr>\n",
       "      <th>27</th>\n",
       "      <td>Ukraine</td>\n",
       "      <td>10</td>\n",
       "    </tr>\n",
       "    <tr>\n",
       "      <th>28</th>\n",
       "      <td>Turkey</td>\n",
       "      <td>8</td>\n",
       "    </tr>\n",
       "    <tr>\n",
       "      <th>29</th>\n",
       "      <td>Chile</td>\n",
       "      <td>7</td>\n",
       "    </tr>\n",
       "    <tr>\n",
       "      <th>30</th>\n",
       "      <td>India</td>\n",
       "      <td>6</td>\n",
       "    </tr>\n",
       "    <tr>\n",
       "      <th>31</th>\n",
       "      <td>Peru</td>\n",
       "      <td>5</td>\n",
       "    </tr>\n",
       "    <tr>\n",
       "      <th>32</th>\n",
       "      <td>Finland</td>\n",
       "      <td>1</td>\n",
       "    </tr>\n",
       "    <tr>\n",
       "      <th>33</th>\n",
       "      <td>Switzerland</td>\n",
       "      <td>1</td>\n",
       "    </tr>\n",
       "    <tr>\n",
       "      <th>34</th>\n",
       "      <td>Portugal</td>\n",
       "      <td>1</td>\n",
       "    </tr>\n",
       "    <tr>\n",
       "      <th>35</th>\n",
       "      <td>Egypt</td>\n",
       "      <td>1</td>\n",
       "    </tr>\n",
       "  </tbody>\n",
       "</table>\n",
       "</div>"
      ]
     },
     "execution_count": 10,
     "metadata": {},
     "output_type": "execute_result"
    }
   ],
   "execution_count": 10
  },
  {
   "cell_type": "markdown",
   "source": [
    "We can even plot this data to make it easier to understand."
   ],
   "metadata": {
    "collapsed": false
   },
   "id": "3ce9720482814cc5"
  },
  {
   "cell_type": "code",
   "source": [
    "df_countries.plot(x=\"Country\", y=\"Count\", kind=\"bar\")"
   ],
   "metadata": {
    "collapsed": false,
    "ExecuteTime": {
     "end_time": "2024-04-16T08:03:32.772628Z",
     "start_time": "2024-04-16T08:03:32.417160Z"
    }
   },
   "id": "614ff191d467ac3",
   "outputs": [
    {
     "data": {
      "text/plain": [
       "<Axes: xlabel='Country'>"
      ]
     },
     "execution_count": 11,
     "metadata": {},
     "output_type": "execute_result"
    },
    {
     "data": {
      "text/plain": [
       "<Figure size 640x480 with 1 Axes>"
      ],
      "image/png": "[encoded data removed]"
     },
     "metadata": {},
     "output_type": "display_data"
    }
   ],
   "execution_count": 11
  },
  {
   "cell_type": "markdown",
   "source": [
    "## Summary\n",
    "\n",
    "In this notebook, we've learned the basics for how to interact with APIs in Python and perform some basic analysis. In the next chapter, we'll build on these concepts to show some real use-cases for these APIs.\n",
    "\n",
    "---\n",
    "[top](https://github.com/hscells/apis-for-evidence-identification#table-of-contents)<br/>\n",
    "[previous: Using APIs via HTTPie](https://github.com/hscells/apis-for-evidence-identification/blob/main/2-how/2-3-using-apis-via-httpie.md)<br/>\n",
    "[next: Searching PubMed](https://github.com/hscells/apis-for-evidence-identification/blob/main/3-use-cases/3-1-searching-pubmed.ipynb)<br/>"
   ],
   "metadata": {
    "collapsed": false
   },
   "id": "d230e1041d3579b4"
  }
 ],
 "metadata": {
  "kernelspec": {
   "display_name": "Python 3",
   "language": "python",
   "name": "python3"
  },
  "language_info": {
   "codemirror_mode": {
    "name": "ipython",
    "version": 2
   },
   "file_extension": ".py",
   "mimetype": "text/x-python",
   "name": "python",
   "nbconvert_exporter": "python",
   "pygments_lexer": "ipython2",
   "version": "2.7.6"
  }
 },
 "nbformat": 4,
 "nbformat_minor": 5
}
